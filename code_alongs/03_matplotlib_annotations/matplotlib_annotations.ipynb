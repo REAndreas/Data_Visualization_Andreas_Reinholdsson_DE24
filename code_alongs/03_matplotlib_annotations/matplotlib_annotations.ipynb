{
 "cells": [
  {
   "cell_type": "markdown",
   "metadata": {},
   "source": [
    "## Matplotlib annotations"
   ]
  },
  {
   "cell_type": "code",
   "execution_count": 2,
   "metadata": {},
   "outputs": [],
   "source": [
    "import pandas as pd\n",
    "import duckdb\n",
    "\n",
    "df = pd.read_csv(\"data/1900-census-immigrant-pop-metro.csv\")"
   ]
  },
  {
   "cell_type": "code",
   "execution_count": null,
   "metadata": {},
   "outputs": [
    {
     "name": "stdout",
     "output_type": "stream",
     "text": [
      "<class 'pandas.core.frame.DataFrame'>\n",
      "RangeIndex: 161 entries, 0 to 160\n",
      "Data columns (total 50 columns):\n",
      " #   Column                                       Non-Null Count  Dtype  \n",
      "---  ------                                       --------------  -----  \n",
      " 0   City                                         161 non-null    object \n",
      " 1   State                                        161 non-null    object \n",
      " 2   Error                                        161 non-null    int64  \n",
      " 3   Total foreign born                           161 non-null    object \n",
      " 4   Africa                                       120 non-null    float64\n",
      " 5   Asia (except China, Japan, and India)        133 non-null    float64\n",
      " 6   Atlantic Islands                             99 non-null     object \n",
      " 7   Australia                                    136 non-null    object \n",
      " 8   Austria                                      161 non-null    object \n",
      " 9   Belgium                                      145 non-null    object \n",
      " 10  Bohemia                                      144 non-null    object \n",
      " 11  Canada (English)                             161 non-null    object \n",
      " 12  Canada (French)                              160 non-null    object \n",
      " 13  Central America                              98 non-null     float64\n",
      " 14  China                                        156 non-null    object \n",
      " 15  Cuba                                         124 non-null    object \n",
      " 16  Denmark                                      157 non-null    object \n",
      " 17  England                                      161 non-null    object \n",
      " 18  Europe (not otherwise specified)             82 non-null     float64\n",
      " 19  Finland                                      120 non-null    object \n",
      " 20  France                                       161 non-null    object \n",
      " 21  Germany                                      161 non-null    object \n",
      " 22  Greece                                       131 non-null    object \n",
      " 23  Holland                                      152 non-null    object \n",
      " 24  Hungary                                      155 non-null    object \n",
      " 25  India                                        117 non-null    float64\n",
      " 26  Ireland                                      161 non-null    object \n",
      " 27  Italy                                        161 non-null    object \n",
      " 28  Japan                                        75 non-null     object \n",
      " 29  Luxemburg                                    53 non-null     float64\n",
      " 30  Mexico                                       111 non-null    object \n",
      " 31  Norway                                       159 non-null    object \n",
      " 32  Pacific Islands (except Phillipine Islands)  85 non-null     float64\n",
      " 33  Poland (Austrian)                            126 non-null    object \n",
      " 34  Poland (German)                              133 non-null    object \n",
      " 35  Poland (Russian)                             159 non-null    object \n",
      " 36  Poland (unknown)                             148 non-null    object \n",
      " 37  Portugal                                     85 non-null     object \n",
      " 38  Roumania                                     102 non-null    object \n",
      " 39  Russia                                       161 non-null    object \n",
      " 40  Scotland                                     161 non-null    object \n",
      " 41  South America                                135 non-null    float64\n",
      " 42  Spain                                        124 non-null    object \n",
      " 43  Sweden                                       161 non-null    object \n",
      " 44  Switzerland                                  160 non-null    object \n",
      " 45  Turkey                                       132 non-null    object \n",
      " 46  Wales                                        161 non-null    object \n",
      " 47  West Indies (except Cuba and Puerto Rico)    135 non-null    object \n",
      " 48  Other countries                              113 non-null    float64\n",
      " 49  Born at sea                                  160 non-null    float64\n",
      "dtypes: float64(10), int64(1), object(39)\n",
      "memory usage: 63.0+ KB\n"
     ]
    },
    {
     "data": {
      "text/plain": [
       "0       7,127\n",
       "1      17,718\n",
       "2      30,216\n",
       "3       2,991\n",
       "4       3,301\n",
       "        ...  \n",
       "156    12,518\n",
       "157    37,652\n",
       "158    14,634\n",
       "159     1,304\n",
       "160    12,207\n",
       "Name: Total foreign born, Length: 161, dtype: object"
      ]
     },
     "execution_count": 4,
     "metadata": {},
     "output_type": "execute_result"
    }
   ],
   "source": [
    "df.info()"
   ]
  },
  {
   "cell_type": "code",
   "execution_count": 6,
   "metadata": {},
   "outputs": [
    {
     "data": {
      "text/plain": [
       "'7,127'"
      ]
     },
     "execution_count": 6,
     "metadata": {},
     "output_type": "execute_result"
    }
   ],
   "source": [
    "df[\"Total foreign born\"].iloc[0]"
   ]
  },
  {
   "cell_type": "code",
   "execution_count": 10,
   "metadata": {},
   "outputs": [
    {
     "data": {
      "text/html": [
       "<div>\n",
       "<style scoped>\n",
       "    .dataframe tbody tr th:only-of-type {\n",
       "        vertical-align: middle;\n",
       "    }\n",
       "\n",
       "    .dataframe tbody tr th {\n",
       "        vertical-align: top;\n",
       "    }\n",
       "\n",
       "    .dataframe thead th {\n",
       "        text-align: right;\n",
       "    }\n",
       "</style>\n",
       "<table border=\"1\" class=\"dataframe\">\n",
       "  <thead>\n",
       "    <tr style=\"text-align: right;\">\n",
       "      <th></th>\n",
       "      <th>Sweden</th>\n",
       "      <th>Norway</th>\n",
       "      <th>Finland</th>\n",
       "      <th>Denmark</th>\n",
       "      <th>Total foreign born</th>\n",
       "    </tr>\n",
       "  </thead>\n",
       "  <tbody>\n",
       "    <tr>\n",
       "      <th>0</th>\n",
       "      <td>200</td>\n",
       "      <td>59</td>\n",
       "      <td>1</td>\n",
       "      <td>105</td>\n",
       "      <td>7,127</td>\n",
       "    </tr>\n",
       "    <tr>\n",
       "      <th>1</th>\n",
       "      <td>65</td>\n",
       "      <td>12</td>\n",
       "      <td>3</td>\n",
       "      <td>21</td>\n",
       "      <td>17,718</td>\n",
       "    </tr>\n",
       "    <tr>\n",
       "      <th>2</th>\n",
       "      <td>186</td>\n",
       "      <td>9</td>\n",
       "      <td>5</td>\n",
       "      <td>15</td>\n",
       "      <td>30,216</td>\n",
       "    </tr>\n",
       "    <tr>\n",
       "      <th>3</th>\n",
       "      <td>5</td>\n",
       "      <td>2</td>\n",
       "      <td>NaN</td>\n",
       "      <td>5</td>\n",
       "      <td>2,991</td>\n",
       "    </tr>\n",
       "    <tr>\n",
       "      <th>4</th>\n",
       "      <td>32</td>\n",
       "      <td>4</td>\n",
       "      <td>3</td>\n",
       "      <td>5</td>\n",
       "      <td>3,301</td>\n",
       "    </tr>\n",
       "    <tr>\n",
       "      <th>...</th>\n",
       "      <td>...</td>\n",
       "      <td>...</td>\n",
       "      <td>...</td>\n",
       "      <td>...</td>\n",
       "      <td>...</td>\n",
       "    </tr>\n",
       "    <tr>\n",
       "      <th>156</th>\n",
       "      <td>45</td>\n",
       "      <td>2</td>\n",
       "      <td>52</td>\n",
       "      <td>3</td>\n",
       "      <td>12,518</td>\n",
       "    </tr>\n",
       "    <tr>\n",
       "      <th>157</th>\n",
       "      <td>7,542</td>\n",
       "      <td>269</td>\n",
       "      <td>1,143</td>\n",
       "      <td>153</td>\n",
       "      <td>37,652</td>\n",
       "    </tr>\n",
       "    <tr>\n",
       "      <th>158</th>\n",
       "      <td>289</td>\n",
       "      <td>46</td>\n",
       "      <td>6</td>\n",
       "      <td>81</td>\n",
       "      <td>14,634</td>\n",
       "    </tr>\n",
       "    <tr>\n",
       "      <th>159</th>\n",
       "      <td>10</td>\n",
       "      <td>1</td>\n",
       "      <td>NaN</td>\n",
       "      <td>NaN</td>\n",
       "      <td>1,304</td>\n",
       "    </tr>\n",
       "    <tr>\n",
       "      <th>160</th>\n",
       "      <td>343</td>\n",
       "      <td>14</td>\n",
       "      <td>28</td>\n",
       "      <td>27</td>\n",
       "      <td>12,207</td>\n",
       "    </tr>\n",
       "  </tbody>\n",
       "</table>\n",
       "<p>161 rows × 5 columns</p>\n",
       "</div>"
      ],
      "text/plain": [
       "    Sweden Norway Finland Denmark Total foreign born\n",
       "0      200     59       1     105              7,127\n",
       "1       65     12       3      21             17,718\n",
       "2      186      9       5      15             30,216\n",
       "3        5      2     NaN       5              2,991\n",
       "4       32      4       3       5              3,301\n",
       "..     ...    ...     ...     ...                ...\n",
       "156     45      2      52       3             12,518\n",
       "157  7,542    269   1,143     153             37,652\n",
       "158    289     46       6      81             14,634\n",
       "159     10      1     NaN     NaN              1,304\n",
       "160    343     14      28      27             12,207\n",
       "\n",
       "[161 rows x 5 columns]"
      ]
     },
     "execution_count": 10,
     "metadata": {},
     "output_type": "execute_result"
    }
   ],
   "source": [
    "\n",
    "columns = [\"Sweden\", \"Norway\", \"Finland\", \"Denmark\", \"Total foreign born\"]\n",
    "\n",
    "df_nordic = df[columns]\n",
    "df_nordic"
   ]
  },
  {
   "cell_type": "code",
   "execution_count": 19,
   "metadata": {},
   "outputs": [
    {
     "data": {
      "text/html": [
       "<div>\n",
       "<style scoped>\n",
       "    .dataframe tbody tr th:only-of-type {\n",
       "        vertical-align: middle;\n",
       "    }\n",
       "\n",
       "    .dataframe tbody tr th {\n",
       "        vertical-align: top;\n",
       "    }\n",
       "\n",
       "    .dataframe thead th {\n",
       "        text-align: right;\n",
       "    }\n",
       "</style>\n",
       "<table border=\"1\" class=\"dataframe\">\n",
       "  <thead>\n",
       "    <tr style=\"text-align: right;\">\n",
       "      <th></th>\n",
       "      <th>Sweden</th>\n",
       "      <th>Norway</th>\n",
       "      <th>Finland</th>\n",
       "      <th>Denmark</th>\n",
       "      <th>Total foreign born</th>\n",
       "    </tr>\n",
       "  </thead>\n",
       "  <tbody>\n",
       "    <tr>\n",
       "      <th>0</th>\n",
       "      <td>200</td>\n",
       "      <td>59</td>\n",
       "      <td>1</td>\n",
       "      <td>105</td>\n",
       "      <td>7127</td>\n",
       "    </tr>\n",
       "    <tr>\n",
       "      <th>1</th>\n",
       "      <td>65</td>\n",
       "      <td>12</td>\n",
       "      <td>3</td>\n",
       "      <td>21</td>\n",
       "      <td>17718</td>\n",
       "    </tr>\n",
       "    <tr>\n",
       "      <th>2</th>\n",
       "      <td>186</td>\n",
       "      <td>9</td>\n",
       "      <td>5</td>\n",
       "      <td>15</td>\n",
       "      <td>30216</td>\n",
       "    </tr>\n",
       "    <tr>\n",
       "      <th>3</th>\n",
       "      <td>5</td>\n",
       "      <td>2</td>\n",
       "      <td>0</td>\n",
       "      <td>5</td>\n",
       "      <td>2991</td>\n",
       "    </tr>\n",
       "    <tr>\n",
       "      <th>4</th>\n",
       "      <td>32</td>\n",
       "      <td>4</td>\n",
       "      <td>3</td>\n",
       "      <td>5</td>\n",
       "      <td>3301</td>\n",
       "    </tr>\n",
       "    <tr>\n",
       "      <th>...</th>\n",
       "      <td>...</td>\n",
       "      <td>...</td>\n",
       "      <td>...</td>\n",
       "      <td>...</td>\n",
       "      <td>...</td>\n",
       "    </tr>\n",
       "    <tr>\n",
       "      <th>156</th>\n",
       "      <td>45</td>\n",
       "      <td>2</td>\n",
       "      <td>52</td>\n",
       "      <td>3</td>\n",
       "      <td>12518</td>\n",
       "    </tr>\n",
       "    <tr>\n",
       "      <th>157</th>\n",
       "      <td>7542</td>\n",
       "      <td>269</td>\n",
       "      <td>1143</td>\n",
       "      <td>153</td>\n",
       "      <td>37652</td>\n",
       "    </tr>\n",
       "    <tr>\n",
       "      <th>158</th>\n",
       "      <td>289</td>\n",
       "      <td>46</td>\n",
       "      <td>6</td>\n",
       "      <td>81</td>\n",
       "      <td>14634</td>\n",
       "    </tr>\n",
       "    <tr>\n",
       "      <th>159</th>\n",
       "      <td>10</td>\n",
       "      <td>1</td>\n",
       "      <td>0</td>\n",
       "      <td>0</td>\n",
       "      <td>1304</td>\n",
       "    </tr>\n",
       "    <tr>\n",
       "      <th>160</th>\n",
       "      <td>343</td>\n",
       "      <td>14</td>\n",
       "      <td>28</td>\n",
       "      <td>27</td>\n",
       "      <td>12207</td>\n",
       "    </tr>\n",
       "  </tbody>\n",
       "</table>\n",
       "<p>161 rows × 5 columns</p>\n",
       "</div>"
      ],
      "text/plain": [
       "    Sweden Norway Finland Denmark Total foreign born\n",
       "0      200     59       1     105               7127\n",
       "1       65     12       3      21              17718\n",
       "2      186      9       5      15              30216\n",
       "3        5      2       0       5               2991\n",
       "4       32      4       3       5               3301\n",
       "..     ...    ...     ...     ...                ...\n",
       "156     45      2      52       3              12518\n",
       "157   7542    269    1143     153              37652\n",
       "158    289     46       6      81              14634\n",
       "159     10      1       0       0               1304\n",
       "160    343     14      28      27              12207\n",
       "\n",
       "[161 rows x 5 columns]"
      ]
     },
     "execution_count": 19,
     "metadata": {},
     "output_type": "execute_result"
    }
   ],
   "source": [
    "for column in columns:\n",
    "    df[column] = df_nordic[column].str.replace(\",\", \"\").astype(int)\n",
    "\n",
    "df_nordic"
   ]
  },
  {
   "cell_type": "code",
   "execution_count": 14,
   "metadata": {},
   "outputs": [
    {
     "data": {
      "text/html": [
       "<div>\n",
       "<style scoped>\n",
       "    .dataframe tbody tr th:only-of-type {\n",
       "        vertical-align: middle;\n",
       "    }\n",
       "\n",
       "    .dataframe tbody tr th {\n",
       "        vertical-align: top;\n",
       "    }\n",
       "\n",
       "    .dataframe thead th {\n",
       "        text-align: right;\n",
       "    }\n",
       "</style>\n",
       "<table border=\"1\" class=\"dataframe\">\n",
       "  <thead>\n",
       "    <tr style=\"text-align: right;\">\n",
       "      <th></th>\n",
       "      <th>Sweden</th>\n",
       "      <th>Norway</th>\n",
       "      <th>Finland</th>\n",
       "      <th>Denmark</th>\n",
       "      <th>Total foreign born</th>\n",
       "    </tr>\n",
       "  </thead>\n",
       "  <tbody>\n",
       "    <tr>\n",
       "      <th>0</th>\n",
       "      <td>200</td>\n",
       "      <td>59</td>\n",
       "      <td>1</td>\n",
       "      <td>105</td>\n",
       "      <td>7127</td>\n",
       "    </tr>\n",
       "    <tr>\n",
       "      <th>1</th>\n",
       "      <td>65</td>\n",
       "      <td>12</td>\n",
       "      <td>3</td>\n",
       "      <td>21</td>\n",
       "      <td>17718</td>\n",
       "    </tr>\n",
       "    <tr>\n",
       "      <th>2</th>\n",
       "      <td>186</td>\n",
       "      <td>9</td>\n",
       "      <td>5</td>\n",
       "      <td>15</td>\n",
       "      <td>30216</td>\n",
       "    </tr>\n",
       "    <tr>\n",
       "      <th>3</th>\n",
       "      <td>5</td>\n",
       "      <td>2</td>\n",
       "      <td>0</td>\n",
       "      <td>5</td>\n",
       "      <td>2991</td>\n",
       "    </tr>\n",
       "    <tr>\n",
       "      <th>4</th>\n",
       "      <td>32</td>\n",
       "      <td>4</td>\n",
       "      <td>3</td>\n",
       "      <td>5</td>\n",
       "      <td>3301</td>\n",
       "    </tr>\n",
       "    <tr>\n",
       "      <th>...</th>\n",
       "      <td>...</td>\n",
       "      <td>...</td>\n",
       "      <td>...</td>\n",
       "      <td>...</td>\n",
       "      <td>...</td>\n",
       "    </tr>\n",
       "    <tr>\n",
       "      <th>156</th>\n",
       "      <td>45</td>\n",
       "      <td>2</td>\n",
       "      <td>52</td>\n",
       "      <td>3</td>\n",
       "      <td>12518</td>\n",
       "    </tr>\n",
       "    <tr>\n",
       "      <th>157</th>\n",
       "      <td>7542</td>\n",
       "      <td>269</td>\n",
       "      <td>1143</td>\n",
       "      <td>153</td>\n",
       "      <td>37652</td>\n",
       "    </tr>\n",
       "    <tr>\n",
       "      <th>158</th>\n",
       "      <td>289</td>\n",
       "      <td>46</td>\n",
       "      <td>6</td>\n",
       "      <td>81</td>\n",
       "      <td>14634</td>\n",
       "    </tr>\n",
       "    <tr>\n",
       "      <th>159</th>\n",
       "      <td>10</td>\n",
       "      <td>1</td>\n",
       "      <td>0</td>\n",
       "      <td>0</td>\n",
       "      <td>1304</td>\n",
       "    </tr>\n",
       "    <tr>\n",
       "      <th>160</th>\n",
       "      <td>343</td>\n",
       "      <td>14</td>\n",
       "      <td>28</td>\n",
       "      <td>27</td>\n",
       "      <td>12207</td>\n",
       "    </tr>\n",
       "  </tbody>\n",
       "</table>\n",
       "<p>161 rows × 5 columns</p>\n",
       "</div>"
      ],
      "text/plain": [
       "    Sweden Norway Finland Denmark Total foreign born\n",
       "0      200     59       1     105               7127\n",
       "1       65     12       3      21              17718\n",
       "2      186      9       5      15              30216\n",
       "3        5      2       0       5               2991\n",
       "4       32      4       3       5               3301\n",
       "..     ...    ...     ...     ...                ...\n",
       "156     45      2      52       3              12518\n",
       "157   7542    269    1143     153              37652\n",
       "158    289     46       6      81              14634\n",
       "159     10      1       0       0               1304\n",
       "160    343     14      28      27              12207\n",
       "\n",
       "[161 rows x 5 columns]"
      ]
     },
     "execution_count": 14,
     "metadata": {},
     "output_type": "execute_result"
    }
   ],
   "source": [
    "df_nordic = df_nordic.fillna(\"0\")\n",
    "\n",
    "df_nordic"
   ]
  },
  {
   "cell_type": "code",
   "execution_count": 20,
   "metadata": {},
   "outputs": [
    {
     "name": "stdout",
     "output_type": "stream",
     "text": [
      "<class 'pandas.core.frame.DataFrame'>\n",
      "RangeIndex: 161 entries, 0 to 160\n",
      "Data columns (total 5 columns):\n",
      " #   Column              Non-Null Count  Dtype\n",
      "---  ------              --------------  -----\n",
      " 0   Sweden              161 non-null    int64\n",
      " 1   Norway              161 non-null    int64\n",
      " 2   Finland             161 non-null    int64\n",
      " 3   Denmark             161 non-null    int64\n",
      " 4   Total foreign born  161 non-null    int64\n",
      "dtypes: int64(5)\n",
      "memory usage: 6.4 KB\n"
     ]
    }
   ],
   "source": [
    "df[columns].info()\n"
   ]
  },
  {
   "cell_type": "code",
   "execution_count": 30,
   "metadata": {},
   "outputs": [
    {
     "data": {
      "text/html": [
       "<div>\n",
       "<style scoped>\n",
       "    .dataframe tbody tr th:only-of-type {\n",
       "        vertical-align: middle;\n",
       "    }\n",
       "\n",
       "    .dataframe tbody tr th {\n",
       "        vertical-align: top;\n",
       "    }\n",
       "\n",
       "    .dataframe thead th {\n",
       "        text-align: right;\n",
       "    }\n",
       "</style>\n",
       "<table border=\"1\" class=\"dataframe\">\n",
       "  <thead>\n",
       "    <tr style=\"text-align: right;\">\n",
       "      <th></th>\n",
       "      <th>State</th>\n",
       "      <th>Total foreigners</th>\n",
       "      <th>Swedes</th>\n",
       "      <th>Norwegians</th>\n",
       "      <th>Finnish</th>\n",
       "      <th>Danish</th>\n",
       "      <th>total_nords</th>\n",
       "    </tr>\n",
       "  </thead>\n",
       "  <tbody>\n",
       "    <tr>\n",
       "      <th>0</th>\n",
       "      <td>Illinois</td>\n",
       "      <td>627465.0</td>\n",
       "      <td>57158.0</td>\n",
       "      <td>22300.0</td>\n",
       "      <td>447.0</td>\n",
       "      <td>10374.0</td>\n",
       "      <td>90279.0</td>\n",
       "    </tr>\n",
       "    <tr>\n",
       "      <th>1</th>\n",
       "      <td>Minnesota</td>\n",
       "      <td>128823.0</td>\n",
       "      <td>34984.0</td>\n",
       "      <td>17087.0</td>\n",
       "      <td>1101.0</td>\n",
       "      <td>2975.0</td>\n",
       "      <td>56147.0</td>\n",
       "    </tr>\n",
       "    <tr>\n",
       "      <th>2</th>\n",
       "      <td>New York</td>\n",
       "      <td>1521931.0</td>\n",
       "      <td>29961.0</td>\n",
       "      <td>11752.0</td>\n",
       "      <td>3764.0</td>\n",
       "      <td>6186.0</td>\n",
       "      <td>51663.0</td>\n",
       "    </tr>\n",
       "    <tr>\n",
       "      <th>3</th>\n",
       "      <td>Massachusetts</td>\n",
       "      <td>567170.0</td>\n",
       "      <td>21971.0</td>\n",
       "      <td>2366.0</td>\n",
       "      <td>3154.0</td>\n",
       "      <td>1451.0</td>\n",
       "      <td>28942.0</td>\n",
       "    </tr>\n",
       "    <tr>\n",
       "      <th>4</th>\n",
       "      <td>Wisconsin</td>\n",
       "      <td>124230.0</td>\n",
       "      <td>4034.0</td>\n",
       "      <td>6485.0</td>\n",
       "      <td>405.0</td>\n",
       "      <td>4024.0</td>\n",
       "      <td>14948.0</td>\n",
       "    </tr>\n",
       "  </tbody>\n",
       "</table>\n",
       "</div>"
      ],
      "text/plain": [
       "           State  Total foreigners   Swedes  Norwegians  Finnish   Danish  \\\n",
       "0       Illinois          627465.0  57158.0     22300.0    447.0  10374.0   \n",
       "1      Minnesota          128823.0  34984.0     17087.0   1101.0   2975.0   \n",
       "2       New York         1521931.0  29961.0     11752.0   3764.0   6186.0   \n",
       "3  Massachusetts          567170.0  21971.0      2366.0   3154.0   1451.0   \n",
       "4      Wisconsin          124230.0   4034.0      6485.0    405.0   4024.0   \n",
       "\n",
       "   total_nords  \n",
       "0      90279.0  \n",
       "1      56147.0  \n",
       "2      51663.0  \n",
       "3      28942.0  \n",
       "4      14948.0  "
      ]
     },
     "execution_count": 30,
     "metadata": {},
     "output_type": "execute_result"
    }
   ],
   "source": [
    "df_nordic = duckdb.query(\"\"\"--sql\n",
    "    WITH nordic as(\n",
    "             FROM df\n",
    "                SELECT\n",
    "                    state,\n",
    "                    SUM(\"Total foreign born\") AS \"Total foreigners\",\n",
    "                    SUM(Sweden) AS Swedes,\n",
    "                    SUM(Norway) AS Norwegians,\n",
    "                    SUM(Finland) AS Finnish,\n",
    "                    SUM(Denmark) AS Danish\n",
    "                GROUP BY state\n",
    "                )\n",
    "        from nordic n\n",
    "        SELECT *, n.Swedes + n.Norwegians + n.Danish + n.Finnish AS total_nords\n",
    "        ORDER BY \n",
    "             total_nords\n",
    "        DESC\n",
    "\"\"\").df()\n",
    "\n",
    "df_nordic.head()"
   ]
  },
  {
   "cell_type": "code",
   "execution_count": 31,
   "metadata": {},
   "outputs": [
    {
     "data": {
      "text/plain": [
       "(39, 7)"
      ]
     },
     "execution_count": 31,
     "metadata": {},
     "output_type": "execute_result"
    }
   ],
   "source": [
    "df_nordic.shape"
   ]
  },
  {
   "cell_type": "code",
   "execution_count": 37,
   "metadata": {},
   "outputs": [
    {
     "data": {
      "text/html": [
       "<div>\n",
       "<style scoped>\n",
       "    .dataframe tbody tr th:only-of-type {\n",
       "        vertical-align: middle;\n",
       "    }\n",
       "\n",
       "    .dataframe tbody tr th {\n",
       "        vertical-align: top;\n",
       "    }\n",
       "\n",
       "    .dataframe thead th {\n",
       "        text-align: right;\n",
       "    }\n",
       "</style>\n",
       "<table border=\"1\" class=\"dataframe\">\n",
       "  <thead>\n",
       "    <tr style=\"text-align: right;\">\n",
       "      <th></th>\n",
       "      <th>Swedes</th>\n",
       "      <th>Norwegians</th>\n",
       "      <th>Finnish</th>\n",
       "      <th>Danish</th>\n",
       "    </tr>\n",
       "    <tr>\n",
       "      <th>State</th>\n",
       "      <th></th>\n",
       "      <th></th>\n",
       "      <th></th>\n",
       "      <th></th>\n",
       "    </tr>\n",
       "  </thead>\n",
       "  <tbody>\n",
       "    <tr>\n",
       "      <th>Illinois</th>\n",
       "      <td>57158.0</td>\n",
       "      <td>22300.0</td>\n",
       "      <td>447.0</td>\n",
       "      <td>10374.0</td>\n",
       "    </tr>\n",
       "    <tr>\n",
       "      <th>Minnesota</th>\n",
       "      <td>34984.0</td>\n",
       "      <td>17087.0</td>\n",
       "      <td>1101.0</td>\n",
       "      <td>2975.0</td>\n",
       "    </tr>\n",
       "    <tr>\n",
       "      <th>New York</th>\n",
       "      <td>29961.0</td>\n",
       "      <td>11752.0</td>\n",
       "      <td>3764.0</td>\n",
       "      <td>6186.0</td>\n",
       "    </tr>\n",
       "  </tbody>\n",
       "</table>\n",
       "</div>"
      ],
      "text/plain": [
       "            Swedes  Norwegians  Finnish   Danish\n",
       "State                                           \n",
       "Illinois   57158.0     22300.0    447.0  10374.0\n",
       "Minnesota  34984.0     17087.0   1101.0   2975.0\n",
       "New York   29961.0     11752.0   3764.0   6186.0"
      ]
     },
     "execution_count": 37,
     "metadata": {},
     "output_type": "execute_result"
    }
   ],
   "source": [
    "import matplotlib.pyplot as plt\n",
    "\n",
    "top3_nordic = df_nordic.drop([\"Total foreigners\", \"total_nords\"], axis=1).set_index(\"State\").iloc[:3]\n",
    "\n",
    "top3_nordic"
   ]
  },
  {
   "cell_type": "code",
   "execution_count": 47,
   "metadata": {},
   "outputs": [
    {
     "data": {
      "text/plain": [
       "(<Figure size 1200x600 with 1 Axes>, <Axes: xlabel='State'>)"
      ]
     },
     "execution_count": 47,
     "metadata": {},
     "output_type": "execute_result"
    },
    {
     "data": {
      "image/png": "[encoded data removed]",
      "text/plain": [
       "<Figure size 1200x600 with 1 Axes>"
      ]
     },
     "metadata": {},
     "output_type": "display_data"
    }
   ],
   "source": [
    "def nordic_plot():\n",
    "    ax = top3_nordic.plot(kind=\"bar\", figsize=(12,6))\n",
    "    ax.set_xticklabels(top3_nordic.index, rotation=0)\n",
    "\n",
    "    fig = ax.get_figure()\n",
    "\n",
    "    return fig, ax\n",
    "\n",
    "nordic_plot()\n"
   ]
  },
  {
   "cell_type": "code",
   "execution_count": 50,
   "metadata": {},
   "outputs": [
    {
     "data": {
      "text/plain": [
       "[<BarContainer object of 3 artists>,\n",
       " <BarContainer object of 3 artists>,\n",
       " <BarContainer object of 3 artists>,\n",
       " <BarContainer object of 3 artists>]"
      ]
     },
     "execution_count": 50,
     "metadata": {},
     "output_type": "execute_result"
    },
    {
     "data": {
      "image/png": "[encoded data removed]",
      "text/plain": [
       "<Figure size 1200x600 with 1 Axes>"
      ]
     },
     "metadata": {},
     "output_type": "display_data"
    }
   ],
   "source": [
    "fig, ax = nordic_plot()\n",
    "\n",
    "ax.containers"
   ]
  },
  {
   "cell_type": "code",
   "execution_count": 52,
   "metadata": {},
   "outputs": [
    {
     "data": {
      "text/plain": [
       "<BarContainer object of 3 artists>"
      ]
     },
     "execution_count": 52,
     "metadata": {},
     "output_type": "execute_result"
    }
   ],
   "source": [
    "ax.containers[0]"
   ]
  },
  {
   "cell_type": "code",
   "execution_count": 58,
   "metadata": {},
   "outputs": [
    {
     "data": {
      "text/plain": [
       "(np.float64(34984.0), np.float64(-0.25))"
      ]
     },
     "execution_count": 58,
     "metadata": {},
     "output_type": "execute_result"
    }
   ],
   "source": [
    "ax.containers[0][1].get_height(), ax.containers[0][0].get_x()"
   ]
  },
  {
   "cell_type": "markdown",
   "metadata": {},
   "source": [
    "## Annotate"
   ]
  },
  {
   "cell_type": "code",
   "execution_count": 67,
   "metadata": {},
   "outputs": [
    {
     "data": {
      "text/plain": [
       "Text(0.8, 42000, 'Swedes')"
      ]
     },
     "execution_count": 67,
     "metadata": {},
     "output_type": "execute_result"
    },
    {
     "data": {
      "image/png": "[encoded data removed]",
      "text/plain": [
       "<Figure size 1200x600 with 1 Axes>"
      ]
     },
     "metadata": {},
     "output_type": "display_data"
    }
   ],
   "source": [
    "fig, ax = nordic_plot()\n",
    "\n",
    "arrowprops = dict(arrowstyle = \"->\", linewidth = 2, connectionstyle=\"arc3, rad=.3\")\n",
    "ax.annotate(text = \"Swedes\", xy=(0.8, 35000), arrowprops=arrowprops, xytext=(0.8, 42000))"
   ]
  },
  {
   "cell_type": "code",
   "execution_count": 82,
   "metadata": {},
   "outputs": [
    {
     "data": {
      "image/png": "[encoded data removed]",
      "text/plain": [
       "<Figure size 1200x600 with 1 Axes>"
      ]
     },
     "metadata": {},
     "output_type": "display_data"
    }
   ],
   "source": [
    "fig, ax = nordic_plot()\n",
    "\n",
    "swede_bars, norwegian_bars, finnish_bars, danish_bars = ax.containers\n",
    "\n",
    "def annotate_nordic(bar_artist, text, x_offset, y_offset):\n",
    "    xy = (bar_artist.get_x(), bar_artist.get_height())\n",
    "    rad = .3 if x_offset > 0 else -0.3\n",
    "\n",
    "    arrowprops = dict(arrowstyle = \"->\", linewidth = 2, connectionstyle=f\"arc3, rad= {rad}\")\n",
    "    ax.annotate(text = text, xy=(xy[0] + .06, xy[1]), arrowprops=arrowprops, xytext=(xy[0] + x_offset, xy[1] + y_offset))\n",
    "                \n",
    "annotate_nordic(swede_bars[1],\"Swedes\", -0.1, 7000)\n",
    "annotate_nordic(norwegian_bars[0],\"Norwegians\", 0.1, 5000)\n",
    "annotate_nordic(swede_bars[0], \"Swedes\", -0.1, 7000)"
   ]
  }
 ],
 "metadata": {
  "kernelspec": {
   "display_name": ".venv",
   "language": "python",
   "name": "python3"
  },
  "language_info": {
   "codemirror_mode": {
    "name": "ipython",
    "version": 3
   },
   "file_extension": ".py",
   "mimetype": "text/x-python",
   "name": "python",
   "nbconvert_exporter": "python",
   "pygments_lexer": "ipython3",
   "version": "3.12.5"
  }
 },
 "nbformat": 4,
 "nbformat_minor": 2
}
